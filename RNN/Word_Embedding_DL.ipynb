{
  "nbformat": 4,
  "nbformat_minor": 0,
  "metadata": {
    "colab": {
      "provenance": [],
      "gpuType": "T4"
    },
    "kernelspec": {
      "name": "python3",
      "display_name": "Python 3"
    },
    "language_info": {
      "name": "python"
    },
    "accelerator": "GPU"
  },
  "cells": [
    {
      "cell_type": "code",
      "execution_count": 1,
      "metadata": {
        "colab": {
          "base_uri": "https://localhost:8080/"
        },
        "id": "syHGoWUfEP68",
        "outputId": "80d022df-b3e4-417e-99d4-5dc519a3a6ab"
      },
      "outputs": [
        {
          "output_type": "stream",
          "name": "stdout",
          "text": [
            "TensorFlow version: 2.18.0\n",
            "Num GPUs Available: 1\n"
          ]
        }
      ],
      "source": [
        "import tensorflow as tf\n",
        "print(\"TensorFlow version:\", tf.__version__)\n",
        "print(\"Num GPUs Available:\", len(tf.config.list_physical_devices('GPU')))"
      ]
    },
    {
      "cell_type": "code",
      "source": [
        "# importing library to perform one hot encoding\n",
        "from tensorflow.keras.preprocessing.text import one_hot"
      ],
      "metadata": {
        "id": "CYeC2b6OE4HH"
      },
      "execution_count": 2,
      "outputs": []
    },
    {
      "cell_type": "code",
      "source": [
        "# sentences\n",
        "sent=[  'the glass of milk',\n",
        "     'the glass of juice',\n",
        "     'the cup of tea',\n",
        "    'I am a good boy',\n",
        "     'I am a good developer',\n",
        "     'understand the meaning of words',\n",
        "     'your videos are good']"
      ],
      "metadata": {
        "id": "C7hDNjU-FJp3"
      },
      "execution_count": 3,
      "outputs": []
    },
    {
      "cell_type": "code",
      "source": [
        "sent"
      ],
      "metadata": {
        "colab": {
          "base_uri": "https://localhost:8080/"
        },
        "id": "0nWzxPccFN6d",
        "outputId": "a93db055-a4f8-400c-fe09-f3e0974b1140"
      },
      "execution_count": 4,
      "outputs": [
        {
          "output_type": "execute_result",
          "data": {
            "text/plain": [
              "['the glass of milk',\n",
              " 'the glass of juice',\n",
              " 'the cup of tea',\n",
              " 'I am a good boy',\n",
              " 'I am a good developer',\n",
              " 'understand the meaning of words',\n",
              " 'your videos are good']"
            ]
          },
          "metadata": {},
          "execution_count": 4
        }
      ]
    },
    {
      "cell_type": "code",
      "source": [
        "# Initialize Vocabulary size\n",
        "voc_size=500"
      ],
      "metadata": {
        "id": "4ZYxuNMaFOns"
      },
      "execution_count": 7,
      "outputs": []
    },
    {
      "cell_type": "markdown",
      "source": [
        "### One Hot Representation\n",
        "One hot will capture all index of words present in sentence"
      ],
      "metadata": {
        "id": "gmXc6rZIFrB4"
      }
    },
    {
      "cell_type": "code",
      "source": [
        "onehot_repr=[one_hot(words,voc_size)for words in sent]\n",
        "print(onehot_repr)"
      ],
      "metadata": {
        "colab": {
          "base_uri": "https://localhost:8080/"
        },
        "id": "mUhbzVBBF4dB",
        "outputId": "6dca6a2f-e6ec-4617-cccb-93640b47bd7a"
      },
      "execution_count": 8,
      "outputs": [
        {
          "output_type": "stream",
          "name": "stdout",
          "text": [
            "[[184, 333, 426, 335], [184, 333, 426, 156], [184, 248, 426, 52], [249, 217, 365, 68, 348], [249, 217, 365, 68, 219], [6, 184, 22, 426, 46], [55, 176, 257, 68]]\n"
          ]
        }
      ]
    },
    {
      "cell_type": "markdown",
      "source": [
        "### Word Embedding Represntation"
      ],
      "metadata": {
        "id": "wpWtFldSGGBV"
      }
    },
    {
      "cell_type": "code",
      "source": [
        "# importing required libraries\n",
        "from tensorflow.keras.layers import Embedding\n",
        "from tensorflow.keras.preprocessing.sequence import pad_sequences\n",
        "from tensorflow.keras.models import Sequential\n",
        "import numpy as np"
      ],
      "metadata": {
        "id": "Ea4K1JDZF_hC"
      },
      "execution_count": 9,
      "outputs": []
    },
    {
      "cell_type": "code",
      "source": [
        "# pre padding --> it will make the size of all sentences as 8 ( to train neurat net we need all sentences of fixed size)\n",
        "# How ? either add zeros at last (post) or at first (pre)\n",
        "sent_length=8 # assuming max sentence length as 8\n",
        "embedded_docs=pad_sequences(onehot_repr,padding='pre',maxlen=sent_length)\n",
        "print(embedded_docs)"
      ],
      "metadata": {
        "colab": {
          "base_uri": "https://localhost:8080/"
        },
        "id": "klMIuRPzHM5n",
        "outputId": "91a40644-0ee1-46c5-df25-85de3ec25095"
      },
      "execution_count": 10,
      "outputs": [
        {
          "output_type": "stream",
          "name": "stdout",
          "text": [
            "[[  0   0   0   0 184 333 426 335]\n",
            " [  0   0   0   0 184 333 426 156]\n",
            " [  0   0   0   0 184 248 426  52]\n",
            " [  0   0   0 249 217 365  68 348]\n",
            " [  0   0   0 249 217 365  68 219]\n",
            " [  0   0   0   6 184  22 426  46]\n",
            " [  0   0   0   0  55 176 257  68]]\n"
          ]
        }
      ]
    },
    {
      "cell_type": "code",
      "source": [
        "# 10 feature dimesnions\n",
        "dim=10"
      ],
      "metadata": {
        "id": "skFhPsF7I1vS"
      },
      "execution_count": 11,
      "outputs": []
    },
    {
      "cell_type": "code",
      "source": [
        "model=Sequential() # imitialize the sequential model\n",
        "model.add(Embedding(voc_size,10,input_length=sent_length)) # embedding layer --> voc_size , dim , sent_length\n",
        "model.compile('adam','mse') # adam optimizer"
      ],
      "metadata": {
        "colab": {
          "base_uri": "https://localhost:8080/"
        },
        "id": "mHdaXjalI5vB",
        "outputId": "572c5d15-91a7-4a0a-b22b-f270fb34f87c"
      },
      "execution_count": 18,
      "outputs": [
        {
          "output_type": "stream",
          "name": "stderr",
          "text": [
            "/usr/local/lib/python3.11/dist-packages/keras/src/layers/core/embedding.py:90: UserWarning: Argument `input_length` is deprecated. Just remove it.\n",
            "  warnings.warn(\n"
          ]
        }
      ]
    },
    {
      "cell_type": "code",
      "source": [
        "model.summary()"
      ],
      "metadata": {
        "colab": {
          "base_uri": "https://localhost:8080/",
          "height": 161
        },
        "id": "6-rC849eJhE4",
        "outputId": "acaeac00-ab9e-432e-f69b-a99cd09aa7b5"
      },
      "execution_count": 14,
      "outputs": [
        {
          "output_type": "display_data",
          "data": {
            "text/plain": [
              "\u001b[1mModel: \"sequential_1\"\u001b[0m\n"
            ],
            "text/html": [
              "<pre style=\"white-space:pre;overflow-x:auto;line-height:normal;font-family:Menlo,'DejaVu Sans Mono',consolas,'Courier New',monospace\"><span style=\"font-weight: bold\">Model: \"sequential_1\"</span>\n",
              "</pre>\n"
            ]
          },
          "metadata": {}
        },
        {
          "output_type": "display_data",
          "data": {
            "text/plain": [
              "┏━━━━━━━━━━━━━━━━━━━━━━━━━━━━━━━━━┳━━━━━━━━━━━━━━━━━━━━━━━━┳━━━━━━━━━━━━━━━┓\n",
              "┃\u001b[1m \u001b[0m\u001b[1mLayer (type)                   \u001b[0m\u001b[1m \u001b[0m┃\u001b[1m \u001b[0m\u001b[1mOutput Shape          \u001b[0m\u001b[1m \u001b[0m┃\u001b[1m \u001b[0m\u001b[1m      Param #\u001b[0m\u001b[1m \u001b[0m┃\n",
              "┡━━━━━━━━━━━━━━━━━━━━━━━━━━━━━━━━━╇━━━━━━━━━━━━━━━━━━━━━━━━╇━━━━━━━━━━━━━━━┩\n",
              "│ embedding_1 (\u001b[38;5;33mEmbedding\u001b[0m)         │ ?                      │   \u001b[38;5;34m0\u001b[0m (unbuilt) │\n",
              "└─────────────────────────────────┴────────────────────────┴───────────────┘\n"
            ],
            "text/html": [
              "<pre style=\"white-space:pre;overflow-x:auto;line-height:normal;font-family:Menlo,'DejaVu Sans Mono',consolas,'Courier New',monospace\">┏━━━━━━━━━━━━━━━━━━━━━━━━━━━━━━━━━┳━━━━━━━━━━━━━━━━━━━━━━━━┳━━━━━━━━━━━━━━━┓\n",
              "┃<span style=\"font-weight: bold\"> Layer (type)                    </span>┃<span style=\"font-weight: bold\"> Output Shape           </span>┃<span style=\"font-weight: bold\">       Param # </span>┃\n",
              "┡━━━━━━━━━━━━━━━━━━━━━━━━━━━━━━━━━╇━━━━━━━━━━━━━━━━━━━━━━━━╇━━━━━━━━━━━━━━━┩\n",
              "│ embedding_1 (<span style=\"color: #0087ff; text-decoration-color: #0087ff\">Embedding</span>)         │ ?                      │   <span style=\"color: #00af00; text-decoration-color: #00af00\">0</span> (unbuilt) │\n",
              "└─────────────────────────────────┴────────────────────────┴───────────────┘\n",
              "</pre>\n"
            ]
          },
          "metadata": {}
        },
        {
          "output_type": "display_data",
          "data": {
            "text/plain": [
              "\u001b[1m Total params: \u001b[0m\u001b[38;5;34m0\u001b[0m (0.00 B)\n"
            ],
            "text/html": [
              "<pre style=\"white-space:pre;overflow-x:auto;line-height:normal;font-family:Menlo,'DejaVu Sans Mono',consolas,'Courier New',monospace\"><span style=\"font-weight: bold\"> Total params: </span><span style=\"color: #00af00; text-decoration-color: #00af00\">0</span> (0.00 B)\n",
              "</pre>\n"
            ]
          },
          "metadata": {}
        },
        {
          "output_type": "display_data",
          "data": {
            "text/plain": [
              "\u001b[1m Trainable params: \u001b[0m\u001b[38;5;34m0\u001b[0m (0.00 B)\n"
            ],
            "text/html": [
              "<pre style=\"white-space:pre;overflow-x:auto;line-height:normal;font-family:Menlo,'DejaVu Sans Mono',consolas,'Courier New',monospace\"><span style=\"font-weight: bold\"> Trainable params: </span><span style=\"color: #00af00; text-decoration-color: #00af00\">0</span> (0.00 B)\n",
              "</pre>\n"
            ]
          },
          "metadata": {}
        },
        {
          "output_type": "display_data",
          "data": {
            "text/plain": [
              "\u001b[1m Non-trainable params: \u001b[0m\u001b[38;5;34m0\u001b[0m (0.00 B)\n"
            ],
            "text/html": [
              "<pre style=\"white-space:pre;overflow-x:auto;line-height:normal;font-family:Menlo,'DejaVu Sans Mono',consolas,'Courier New',monospace\"><span style=\"font-weight: bold\"> Non-trainable params: </span><span style=\"color: #00af00; text-decoration-color: #00af00\">0</span> (0.00 B)\n",
              "</pre>\n"
            ]
          },
          "metadata": {}
        }
      ]
    },
    {
      "cell_type": "code",
      "source": [
        "# 'the glass of milk',\n",
        "embedded_docs[0]"
      ],
      "metadata": {
        "colab": {
          "base_uri": "https://localhost:8080/"
        },
        "id": "9xWvsU7hJmTh",
        "outputId": "ef8ba0a1-d77a-4e95-dfa1-c1ab54652a89"
      },
      "execution_count": 15,
      "outputs": [
        {
          "output_type": "execute_result",
          "data": {
            "text/plain": [
              "array([  0,   0,   0,   0, 184, 333, 426, 335], dtype=int32)"
            ]
          },
          "metadata": {},
          "execution_count": 15
        }
      ]
    },
    {
      "cell_type": "code",
      "source": [
        "model.predict(embedded_docs[0])"
      ],
      "metadata": {
        "colab": {
          "base_uri": "https://localhost:8080/"
        },
        "id": "1NP7HF1SJvrE",
        "outputId": "a0b9c6a1-3dec-40fb-d4d8-e558a9dc91a2"
      },
      "execution_count": 16,
      "outputs": [
        {
          "output_type": "stream",
          "name": "stdout",
          "text": [
            "\u001b[1m1/1\u001b[0m \u001b[32m━━━━━━━━━━━━━━━━━━━━\u001b[0m\u001b[37m\u001b[0m \u001b[1m1s\u001b[0m 740ms/step\n"
          ]
        },
        {
          "output_type": "execute_result",
          "data": {
            "text/plain": [
              "array([[-0.02951518, -0.04821581,  0.01190503,  0.03063432, -0.01647324,\n",
              "        -0.00326739,  0.0382161 , -0.02596929,  0.00453269, -0.02552432],\n",
              "       [-0.02951518, -0.04821581,  0.01190503,  0.03063432, -0.01647324,\n",
              "        -0.00326739,  0.0382161 , -0.02596929,  0.00453269, -0.02552432],\n",
              "       [-0.02951518, -0.04821581,  0.01190503,  0.03063432, -0.01647324,\n",
              "        -0.00326739,  0.0382161 , -0.02596929,  0.00453269, -0.02552432],\n",
              "       [-0.02951518, -0.04821581,  0.01190503,  0.03063432, -0.01647324,\n",
              "        -0.00326739,  0.0382161 , -0.02596929,  0.00453269, -0.02552432],\n",
              "       [ 0.02876845, -0.0331925 , -0.03746675,  0.02610873,  0.02092457,\n",
              "        -0.03205695,  0.00508217,  0.00120362,  0.0436721 ,  0.03283633],\n",
              "       [ 0.01118007,  0.04341436, -0.04497228,  0.03749922, -0.00399504,\n",
              "        -0.01113594, -0.00393068, -0.03248816, -0.03626423,  0.0018231 ],\n",
              "       [-0.00467325,  0.02081173, -0.01120172,  0.01038041, -0.01854578,\n",
              "        -0.00875723, -0.0080632 ,  0.00645522,  0.01266405, -0.0370201 ],\n",
              "       [-0.00451992, -0.0084338 ,  0.04399306, -0.04371849, -0.04720349,\n",
              "         0.02196446, -0.00148698,  0.01061027,  0.04190725,  0.01762525]],\n",
              "      dtype=float32)"
            ]
          },
          "metadata": {},
          "execution_count": 16
        }
      ]
    },
    {
      "cell_type": "code",
      "source": [
        "print(model.predict(embedded_docs))"
      ],
      "metadata": {
        "colab": {
          "base_uri": "https://localhost:8080/"
        },
        "id": "o-twSG3-J429",
        "outputId": "874a9684-eba5-4e4c-b734-676c33aba270"
      },
      "execution_count": 19,
      "outputs": [
        {
          "output_type": "stream",
          "name": "stdout",
          "text": [
            "\u001b[1m1/1\u001b[0m \u001b[32m━━━━━━━━━━━━━━━━━━━━\u001b[0m\u001b[37m\u001b[0m \u001b[1m0s\u001b[0m 189ms/step\n",
            "[[[ 2.53690407e-03 -2.23483890e-03 -2.47465018e-02 -2.34511849e-02\n",
            "    3.76849882e-02  4.46288921e-02  6.41108677e-03 -9.88727808e-03\n",
            "   -2.97616255e-02  3.77387516e-02]\n",
            "  [ 2.53690407e-03 -2.23483890e-03 -2.47465018e-02 -2.34511849e-02\n",
            "    3.76849882e-02  4.46288921e-02  6.41108677e-03 -9.88727808e-03\n",
            "   -2.97616255e-02  3.77387516e-02]\n",
            "  [ 2.53690407e-03 -2.23483890e-03 -2.47465018e-02 -2.34511849e-02\n",
            "    3.76849882e-02  4.46288921e-02  6.41108677e-03 -9.88727808e-03\n",
            "   -2.97616255e-02  3.77387516e-02]\n",
            "  [ 2.53690407e-03 -2.23483890e-03 -2.47465018e-02 -2.34511849e-02\n",
            "    3.76849882e-02  4.46288921e-02  6.41108677e-03 -9.88727808e-03\n",
            "   -2.97616255e-02  3.77387516e-02]\n",
            "  [-4.85042334e-02  4.94827367e-02 -1.28576756e-02  4.75092866e-02\n",
            "   -2.37333775e-03  2.83046812e-03  4.30486314e-02 -1.94484722e-02\n",
            "   -3.53161916e-02 -2.10878607e-02]\n",
            "  [ 1.01671368e-03 -3.88364196e-02  1.09237209e-02 -2.81348359e-02\n",
            "    4.55291532e-02 -4.38543670e-02 -3.78817320e-03 -3.67624760e-02\n",
            "   -4.67228554e-02  1.85891725e-02]\n",
            "  [ 4.96877469e-02  4.15277369e-02 -3.47517431e-04  2.04224922e-02\n",
            "    1.27450265e-02  2.61597708e-03  2.70757824e-03 -2.74915341e-02\n",
            "    4.13857438e-02 -1.82218924e-02]\n",
            "  [-2.75561959e-03 -2.41010431e-02 -4.33697701e-02 -4.50265408e-02\n",
            "    4.48043272e-03  2.79843323e-02  7.49169663e-03  1.89340971e-02\n",
            "   -3.53158638e-03 -2.68936399e-02]]\n",
            "\n",
            " [[ 2.53690407e-03 -2.23483890e-03 -2.47465018e-02 -2.34511849e-02\n",
            "    3.76849882e-02  4.46288921e-02  6.41108677e-03 -9.88727808e-03\n",
            "   -2.97616255e-02  3.77387516e-02]\n",
            "  [ 2.53690407e-03 -2.23483890e-03 -2.47465018e-02 -2.34511849e-02\n",
            "    3.76849882e-02  4.46288921e-02  6.41108677e-03 -9.88727808e-03\n",
            "   -2.97616255e-02  3.77387516e-02]\n",
            "  [ 2.53690407e-03 -2.23483890e-03 -2.47465018e-02 -2.34511849e-02\n",
            "    3.76849882e-02  4.46288921e-02  6.41108677e-03 -9.88727808e-03\n",
            "   -2.97616255e-02  3.77387516e-02]\n",
            "  [ 2.53690407e-03 -2.23483890e-03 -2.47465018e-02 -2.34511849e-02\n",
            "    3.76849882e-02  4.46288921e-02  6.41108677e-03 -9.88727808e-03\n",
            "   -2.97616255e-02  3.77387516e-02]\n",
            "  [-4.85042334e-02  4.94827367e-02 -1.28576756e-02  4.75092866e-02\n",
            "   -2.37333775e-03  2.83046812e-03  4.30486314e-02 -1.94484722e-02\n",
            "   -3.53161916e-02 -2.10878607e-02]\n",
            "  [ 1.01671368e-03 -3.88364196e-02  1.09237209e-02 -2.81348359e-02\n",
            "    4.55291532e-02 -4.38543670e-02 -3.78817320e-03 -3.67624760e-02\n",
            "   -4.67228554e-02  1.85891725e-02]\n",
            "  [ 4.96877469e-02  4.15277369e-02 -3.47517431e-04  2.04224922e-02\n",
            "    1.27450265e-02  2.61597708e-03  2.70757824e-03 -2.74915341e-02\n",
            "    4.13857438e-02 -1.82218924e-02]\n",
            "  [-1.23489015e-02 -1.68830380e-02 -1.62307248e-02  3.79103422e-03\n",
            "    2.89417990e-02 -3.60211134e-02 -4.25247066e-02  3.01950611e-02\n",
            "   -4.34313901e-02 -4.17123064e-02]]\n",
            "\n",
            " [[ 2.53690407e-03 -2.23483890e-03 -2.47465018e-02 -2.34511849e-02\n",
            "    3.76849882e-02  4.46288921e-02  6.41108677e-03 -9.88727808e-03\n",
            "   -2.97616255e-02  3.77387516e-02]\n",
            "  [ 2.53690407e-03 -2.23483890e-03 -2.47465018e-02 -2.34511849e-02\n",
            "    3.76849882e-02  4.46288921e-02  6.41108677e-03 -9.88727808e-03\n",
            "   -2.97616255e-02  3.77387516e-02]\n",
            "  [ 2.53690407e-03 -2.23483890e-03 -2.47465018e-02 -2.34511849e-02\n",
            "    3.76849882e-02  4.46288921e-02  6.41108677e-03 -9.88727808e-03\n",
            "   -2.97616255e-02  3.77387516e-02]\n",
            "  [ 2.53690407e-03 -2.23483890e-03 -2.47465018e-02 -2.34511849e-02\n",
            "    3.76849882e-02  4.46288921e-02  6.41108677e-03 -9.88727808e-03\n",
            "   -2.97616255e-02  3.77387516e-02]\n",
            "  [-4.85042334e-02  4.94827367e-02 -1.28576756e-02  4.75092866e-02\n",
            "   -2.37333775e-03  2.83046812e-03  4.30486314e-02 -1.94484722e-02\n",
            "   -3.53161916e-02 -2.10878607e-02]\n",
            "  [-4.40992974e-02 -4.07637954e-02 -1.22221708e-02  1.28483772e-03\n",
            "    2.66461410e-02 -8.96668434e-03  3.70627753e-02  2.84304060e-02\n",
            "   -8.07696581e-03 -2.28777528e-02]\n",
            "  [ 4.96877469e-02  4.15277369e-02 -3.47517431e-04  2.04224922e-02\n",
            "    1.27450265e-02  2.61597708e-03  2.70757824e-03 -2.74915341e-02\n",
            "    4.13857438e-02 -1.82218924e-02]\n",
            "  [-2.55930554e-02 -5.21598011e-03 -4.90900278e-02 -4.42584269e-02\n",
            "    3.20613049e-02 -2.77411472e-02 -1.41735673e-02 -4.34183739e-02\n",
            "   -4.34918888e-02 -1.35302544e-02]]\n",
            "\n",
            " [[ 2.53690407e-03 -2.23483890e-03 -2.47465018e-02 -2.34511849e-02\n",
            "    3.76849882e-02  4.46288921e-02  6.41108677e-03 -9.88727808e-03\n",
            "   -2.97616255e-02  3.77387516e-02]\n",
            "  [ 2.53690407e-03 -2.23483890e-03 -2.47465018e-02 -2.34511849e-02\n",
            "    3.76849882e-02  4.46288921e-02  6.41108677e-03 -9.88727808e-03\n",
            "   -2.97616255e-02  3.77387516e-02]\n",
            "  [ 2.53690407e-03 -2.23483890e-03 -2.47465018e-02 -2.34511849e-02\n",
            "    3.76849882e-02  4.46288921e-02  6.41108677e-03 -9.88727808e-03\n",
            "   -2.97616255e-02  3.77387516e-02]\n",
            "  [-3.21687385e-03 -2.90315505e-02 -2.23632343e-02 -3.80827077e-02\n",
            "   -4.02534828e-02  2.56055035e-02 -2.93880105e-02 -3.70922461e-02\n",
            "   -4.91374247e-02  4.44529168e-02]\n",
            "  [-4.72727679e-02 -1.37097351e-02  8.56602192e-03 -2.16677431e-02\n",
            "    3.95798683e-03 -2.67598163e-02 -3.38020474e-02 -1.73853040e-02\n",
            "   -2.15962417e-02 -1.05385073e-02]\n",
            "  [ 2.49292739e-02  4.69841994e-02 -4.81999405e-02  2.84333266e-02\n",
            "    4.89307381e-02  4.24261577e-02  3.35962214e-02 -4.65408824e-02\n",
            "   -3.72090340e-02 -3.43445763e-02]\n",
            "  [ 4.81563546e-02  3.66370715e-02  2.72829421e-02  8.67049769e-03\n",
            "    3.54647078e-02 -1.43695585e-02 -3.07123549e-02  1.24634877e-02\n",
            "   -4.33807746e-02  5.02450392e-03]\n",
            "  [ 2.07976215e-02  8.58423859e-03  1.90508366e-03  4.70701195e-02\n",
            "    4.79589961e-02  1.68172978e-02 -4.64047119e-03 -1.83748230e-02\n",
            "   -2.46828198e-02  4.87629324e-03]]\n",
            "\n",
            " [[ 2.53690407e-03 -2.23483890e-03 -2.47465018e-02 -2.34511849e-02\n",
            "    3.76849882e-02  4.46288921e-02  6.41108677e-03 -9.88727808e-03\n",
            "   -2.97616255e-02  3.77387516e-02]\n",
            "  [ 2.53690407e-03 -2.23483890e-03 -2.47465018e-02 -2.34511849e-02\n",
            "    3.76849882e-02  4.46288921e-02  6.41108677e-03 -9.88727808e-03\n",
            "   -2.97616255e-02  3.77387516e-02]\n",
            "  [ 2.53690407e-03 -2.23483890e-03 -2.47465018e-02 -2.34511849e-02\n",
            "    3.76849882e-02  4.46288921e-02  6.41108677e-03 -9.88727808e-03\n",
            "   -2.97616255e-02  3.77387516e-02]\n",
            "  [-3.21687385e-03 -2.90315505e-02 -2.23632343e-02 -3.80827077e-02\n",
            "   -4.02534828e-02  2.56055035e-02 -2.93880105e-02 -3.70922461e-02\n",
            "   -4.91374247e-02  4.44529168e-02]\n",
            "  [-4.72727679e-02 -1.37097351e-02  8.56602192e-03 -2.16677431e-02\n",
            "    3.95798683e-03 -2.67598163e-02 -3.38020474e-02 -1.73853040e-02\n",
            "   -2.15962417e-02 -1.05385073e-02]\n",
            "  [ 2.49292739e-02  4.69841994e-02 -4.81999405e-02  2.84333266e-02\n",
            "    4.89307381e-02  4.24261577e-02  3.35962214e-02 -4.65408824e-02\n",
            "   -3.72090340e-02 -3.43445763e-02]\n",
            "  [ 4.81563546e-02  3.66370715e-02  2.72829421e-02  8.67049769e-03\n",
            "    3.54647078e-02 -1.43695585e-02 -3.07123549e-02  1.24634877e-02\n",
            "   -4.33807746e-02  5.02450392e-03]\n",
            "  [ 3.06709297e-02 -1.87552460e-02 -9.20448452e-03 -2.75664814e-02\n",
            "   -1.51844509e-02  4.23035137e-02 -3.22376043e-02  5.28037548e-04\n",
            "   -3.05546522e-02  1.01359710e-02]]\n",
            "\n",
            " [[ 2.53690407e-03 -2.23483890e-03 -2.47465018e-02 -2.34511849e-02\n",
            "    3.76849882e-02  4.46288921e-02  6.41108677e-03 -9.88727808e-03\n",
            "   -2.97616255e-02  3.77387516e-02]\n",
            "  [ 2.53690407e-03 -2.23483890e-03 -2.47465018e-02 -2.34511849e-02\n",
            "    3.76849882e-02  4.46288921e-02  6.41108677e-03 -9.88727808e-03\n",
            "   -2.97616255e-02  3.77387516e-02]\n",
            "  [ 2.53690407e-03 -2.23483890e-03 -2.47465018e-02 -2.34511849e-02\n",
            "    3.76849882e-02  4.46288921e-02  6.41108677e-03 -9.88727808e-03\n",
            "   -2.97616255e-02  3.77387516e-02]\n",
            "  [-3.02264094e-02  4.96355779e-02 -3.65126505e-02  1.52917542e-02\n",
            "   -2.28731632e-02 -3.20587978e-02 -1.82209499e-02  3.56027000e-02\n",
            "    3.92295159e-02  1.75298564e-02]\n",
            "  [-4.85042334e-02  4.94827367e-02 -1.28576756e-02  4.75092866e-02\n",
            "   -2.37333775e-03  2.83046812e-03  4.30486314e-02 -1.94484722e-02\n",
            "   -3.53161916e-02 -2.10878607e-02]\n",
            "  [-4.08950560e-02 -4.60650437e-02 -3.70021835e-02  4.14261110e-02\n",
            "    4.49989922e-02 -2.05853228e-02 -4.24789563e-02  4.96923923e-03\n",
            "    4.71328162e-02  4.95812334e-02]\n",
            "  [ 4.96877469e-02  4.15277369e-02 -3.47517431e-04  2.04224922e-02\n",
            "    1.27450265e-02  2.61597708e-03  2.70757824e-03 -2.74915341e-02\n",
            "    4.13857438e-02 -1.82218924e-02]\n",
            "  [ 3.62817906e-02 -4.30562980e-02 -1.39731877e-02  4.27314378e-02\n",
            "    1.56136639e-02  3.76182906e-02 -2.87795551e-02  1.98260583e-02\n",
            "   -1.06770620e-02 -1.90713760e-02]]\n",
            "\n",
            " [[ 2.53690407e-03 -2.23483890e-03 -2.47465018e-02 -2.34511849e-02\n",
            "    3.76849882e-02  4.46288921e-02  6.41108677e-03 -9.88727808e-03\n",
            "   -2.97616255e-02  3.77387516e-02]\n",
            "  [ 2.53690407e-03 -2.23483890e-03 -2.47465018e-02 -2.34511849e-02\n",
            "    3.76849882e-02  4.46288921e-02  6.41108677e-03 -9.88727808e-03\n",
            "   -2.97616255e-02  3.77387516e-02]\n",
            "  [ 2.53690407e-03 -2.23483890e-03 -2.47465018e-02 -2.34511849e-02\n",
            "    3.76849882e-02  4.46288921e-02  6.41108677e-03 -9.88727808e-03\n",
            "   -2.97616255e-02  3.77387516e-02]\n",
            "  [ 2.53690407e-03 -2.23483890e-03 -2.47465018e-02 -2.34511849e-02\n",
            "    3.76849882e-02  4.46288921e-02  6.41108677e-03 -9.88727808e-03\n",
            "   -2.97616255e-02  3.77387516e-02]\n",
            "  [ 1.95054747e-02  7.84591585e-03 -2.90398728e-02 -1.27325878e-02\n",
            "    2.40492336e-02  7.93632120e-03  5.95148653e-03 -3.08219083e-02\n",
            "    3.03548612e-02  5.34253195e-03]\n",
            "  [ 1.48091651e-02  9.87950712e-03 -4.98617552e-02  4.85739447e-02\n",
            "   -2.09677462e-02 -1.60744414e-02  1.61632150e-03  1.18545294e-02\n",
            "    2.15351619e-02 -5.91925532e-03]\n",
            "  [-3.55306044e-02  5.84237278e-05 -8.85594636e-04 -4.60481308e-02\n",
            "    4.65351678e-02 -3.60201113e-02 -2.17615440e-03 -8.28515738e-04\n",
            "   -3.31199765e-02  2.02869810e-02]\n",
            "  [ 4.81563546e-02  3.66370715e-02  2.72829421e-02  8.67049769e-03\n",
            "    3.54647078e-02 -1.43695585e-02 -3.07123549e-02  1.24634877e-02\n",
            "   -4.33807746e-02  5.02450392e-03]]]\n"
          ]
        }
      ]
    }
  ]
}